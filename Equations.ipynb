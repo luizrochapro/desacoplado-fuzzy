{
 "cells": [
  {
   "cell_type": "code",
   "execution_count": 24,
   "metadata": {},
   "outputs": [],
   "source": [
    "from sympy import *\n",
    "import numpy as np\n"
   ]
  },
  {
   "cell_type": "code",
   "execution_count": 25,
   "metadata": {},
   "outputs": [],
   "source": [
    "Vk,Vm,Tk,Tm, Gkm, Bkm, tap , Bsh = symbols('Vk Vm Tk Tm Gkm Bkm Tap Bsh')"
   ]
  },
  {
   "cell_type": "code",
   "execution_count": 26,
   "metadata": {},
   "outputs": [],
   "source": [
    "Pkm = Vk**2 * Gkm - tap * Vk * Vm * (Gkm * cos(Tk-Tm) + Bkm * sin(Tk-Tm))\n",
    "Pmk = Vm**2 * Gkm * tap**2 - Vk * Vm * tap * (Gkm * cos(Tk-Tm) - Bkm * sin(Tk-Tm))\n",
    "\n",
    "Qkm = -Vk**2 * (Bkm + Bsh) - tap * Vk * Vm * (Gkm * sin(Tk-Tm) - Bkm * cos(Tk-Tm))\n",
    "Qmk = -Vm**2 * (Bkm + Bsh) * tap**2 + tap * Vk * Vm * (Gkm * sin(Tk-Tm) + Bkm * cos(Tk-Tm))"
   ]
  },
  {
   "cell_type": "code",
   "execution_count": 27,
   "metadata": {},
   "outputs": [],
   "source": [
    "dPkmVk = diff(Pkm,Vk)\n",
    "dPkmVm = diff(Pkm,Vm)\n",
    "dPkmTk = diff(Pkm,Tk)\n",
    "dPkmTm = diff(Pkm,Tm)"
   ]
  },
  {
   "cell_type": "code",
   "execution_count": 38,
   "metadata": {},
   "outputs": [
    {
     "data": {
      "text/latex": [
       "$\\displaystyle - Tap Vk Vm \\left(- Bkm \\cos{\\left(Tk - Tm \\right)} + Gkm \\sin{\\left(Tk - Tm \\right)}\\right)$"
      ],
      "text/plain": [
       "-Tap*Vk*Vm*(-Bkm*cos(Tk - Tm) + Gkm*sin(Tk - Tm))"
      ]
     },
     "execution_count": 38,
     "metadata": {},
     "output_type": "execute_result"
    }
   ],
   "source": [
    "dPkmTm"
   ]
  },
  {
   "cell_type": "code",
   "execution_count": 28,
   "metadata": {},
   "outputs": [],
   "source": [
    "dPmkVk = diff(Pmk,Vk)\n",
    "dPmkVm = diff(Pmk,Vm)\n",
    "dPmkTk = diff(Pmk,Tk)\n",
    "dPmkTm = diff(Pmk,Tm)"
   ]
  },
  {
   "cell_type": "code",
   "execution_count": 42,
   "metadata": {},
   "outputs": [
    {
     "data": {
      "text/latex": [
       "$\\displaystyle - Tap Vk Vm \\left(Bkm \\cos{\\left(Tk - Tm \\right)} + Gkm \\sin{\\left(Tk - Tm \\right)}\\right)$"
      ],
      "text/plain": [
       "-Tap*Vk*Vm*(Bkm*cos(Tk - Tm) + Gkm*sin(Tk - Tm))"
      ]
     },
     "execution_count": 42,
     "metadata": {},
     "output_type": "execute_result"
    }
   ],
   "source": [
    "dPmkTm"
   ]
  },
  {
   "cell_type": "code",
   "execution_count": 29,
   "metadata": {},
   "outputs": [],
   "source": [
    "dQkmVk = diff(Qkm,Vk)\n",
    "dQkmVm = diff(Qkm,Vm)\n",
    "dQkmTk = diff(Qkm,Tk)\n",
    "dQkmTm = diff(Qkm,Tm)"
   ]
  },
  {
   "cell_type": "code",
   "execution_count": 30,
   "metadata": {},
   "outputs": [],
   "source": [
    "dQmkVk = diff(Qmk,Vk)\n",
    "dQmkVm = diff(Qmk,Vm)\n",
    "dQmkTk = diff(Qmk,Tk)\n",
    "dQmkTm = diff(Qmk,Tm)"
   ]
  },
  {
   "cell_type": "code",
   "execution_count": 50,
   "metadata": {},
   "outputs": [
    {
     "data": {
      "text/latex": [
       "$\\displaystyle Tap Vk Vm \\left(Bkm \\sin{\\left(Tk - Tm \\right)} - Gkm \\cos{\\left(Tk - Tm \\right)}\\right)$"
      ],
      "text/plain": [
       "Tap*Vk*Vm*(Bkm*sin(Tk - Tm) - Gkm*cos(Tk - Tm))"
      ]
     },
     "execution_count": 50,
     "metadata": {},
     "output_type": "execute_result"
    }
   ],
   "source": [
    "dQmkTm"
   ]
  },
  {
   "cell_type": "code",
   "execution_count": 32,
   "metadata": {},
   "outputs": [
    {
     "data": {
      "text/latex": [
       "$\\displaystyle - Tap Vk \\left(Bkm \\sin{\\left(Tk - Tm \\right)} + Gkm \\cos{\\left(Tk - Tm \\right)}\\right)$"
      ],
      "text/plain": [
       "-Tap*Vk*(Bkm*sin(Tk - Tm) + Gkm*cos(Tk - Tm))"
      ]
     },
     "execution_count": 32,
     "metadata": {},
     "output_type": "execute_result"
    }
   ],
   "source": [
    "dPkmVm"
   ]
  },
  {
   "cell_type": "code",
   "execution_count": 33,
   "metadata": {},
   "outputs": [
    {
     "data": {
      "text/latex": [
       "$\\displaystyle - Tap Vk Vm \\left(Bkm \\cos{\\left(Tk - Tm \\right)} - Gkm \\sin{\\left(Tk - Tm \\right)}\\right)$"
      ],
      "text/plain": [
       "-Tap*Vk*Vm*(Bkm*cos(Tk - Tm) - Gkm*sin(Tk - Tm))"
      ]
     },
     "execution_count": 33,
     "metadata": {},
     "output_type": "execute_result"
    }
   ],
   "source": [
    "dPkmTk"
   ]
  },
  {
   "cell_type": "code",
   "execution_count": 34,
   "metadata": {},
   "outputs": [
    {
     "data": {
      "text/latex": [
       "$\\displaystyle - Tap Vk Vm \\left(- Bkm \\cos{\\left(Tk - Tm \\right)} + Gkm \\sin{\\left(Tk - Tm \\right)}\\right)$"
      ],
      "text/plain": [
       "-Tap*Vk*Vm*(-Bkm*cos(Tk - Tm) + Gkm*sin(Tk - Tm))"
      ]
     },
     "execution_count": 34,
     "metadata": {},
     "output_type": "execute_result"
    }
   ],
   "source": [
    "dPkmTm"
   ]
  },
  {
   "cell_type": "code",
   "execution_count": null,
   "metadata": {},
   "outputs": [],
   "source": []
  },
  {
   "cell_type": "code",
   "execution_count": null,
   "metadata": {},
   "outputs": [],
   "source": []
  }
 ],
 "metadata": {
  "kernelspec": {
   "display_name": "Python 3",
   "language": "python",
   "name": "python3"
  },
  "language_info": {
   "codemirror_mode": {
    "name": "ipython",
    "version": 3
   },
   "file_extension": ".py",
   "mimetype": "text/x-python",
   "name": "python",
   "nbconvert_exporter": "python",
   "pygments_lexer": "ipython3",
   "version": "3.7.7"
  }
 },
 "nbformat": 4,
 "nbformat_minor": 4
}
