{
 "cells": [
  {
   "cell_type": "code",
   "execution_count": 2,
   "metadata": {},
   "outputs": [],
   "source": [
    "from sympy import *\n",
    "import numpy as np\n"
   ]
  },
  {
   "cell_type": "code",
   "execution_count": 3,
   "metadata": {},
   "outputs": [],
   "source": [
    "Vk,Vm,Tk,Tm, Gkm, Bkm, tap , Bsh = symbols('Vk Vm Tk Tm Gkm Bkm Tap Bsh')"
   ]
  },
  {
   "cell_type": "code",
   "execution_count": 57,
   "metadata": {},
   "outputs": [],
   "source": [
    "Pkm = Vk**2 * Gkm - tap * Vk * Vm * (Gkm * cos(Tk-Tm) + Bkm * sin(Tk-Tm))\n",
    "Pmk = Vm**2 * Gkm * tap**2 - Vk * Vm * tap * (Gkm * cos(Tk-Tm) - Bkm * sin(Tk-Tm))\n",
    "\n",
    "Qkm = -1*(Vk**2) * (Bkm + Bsh) - tap * Vk * Vm * (Gkm * sin(Tk-Tm) - Bkm * cos(Tk-Tm))\n",
    "Qmk = -1*(Vm**2) * (Bkm + Bsh) * tap**2 + tap * Vk * Vm * (Gkm * sin(Tk-Tm) + Bkm * cos(Tk-Tm))\n",
    "\n",
    "Perdas = Gkm * (Vk**2) + Gkm * Vm**2 * (tap**2) - 2 * (tap**2) * Vk * Vm * Gkm * cos(Tk-Tm)"
   ]
  },
  {
   "cell_type": "code",
   "execution_count": 58,
   "metadata": {},
   "outputs": [],
   "source": [
    "dPkmVk = diff(Pkm,Vk)\n",
    "dPkmVm = diff(Pkm,Vm)\n",
    "dPkmTk = diff(Pkm,Tk)\n",
    "dPkmTm = diff(Pkm,Tm)"
   ]
  },
  {
   "cell_type": "code",
   "execution_count": null,
   "metadata": {},
   "outputs": [],
   "source": []
  },
  {
   "cell_type": "code",
   "execution_count": 35,
   "metadata": {},
   "outputs": [
    {
     "data": {
      "text/latex": [
       "$\\displaystyle - Tap Vk Vm \\left(- Bkm \\cos{\\left(Tk - Tm \\right)} + Gkm \\sin{\\left(Tk - Tm \\right)}\\right)$"
      ],
      "text/plain": [
       "-Tap*Vk*Vm*(-Bkm*cos(Tk - Tm) + Gkm*sin(Tk - Tm))"
      ]
     },
     "execution_count": 35,
     "metadata": {},
     "output_type": "execute_result"
    }
   ],
   "source": [
    "dPkmTm"
   ]
  },
  {
   "cell_type": "code",
   "execution_count": null,
   "metadata": {},
   "outputs": [],
   "source": []
  },
  {
   "cell_type": "code",
   "execution_count": 36,
   "metadata": {},
   "outputs": [],
   "source": [
    "dPmkVk = diff(Pmk,Vk)\n",
    "dPmkVm = diff(Pmk,Vm)\n",
    "dPmkTk = diff(Pmk,Tk)\n",
    "dPmkTm = diff(Pmk,Tm)"
   ]
  },
  {
   "cell_type": "code",
   "execution_count": 48,
   "metadata": {},
   "outputs": [
    {
     "data": {
      "text/latex": [
       "$\\displaystyle - Tap Vk Vm \\left(Bkm \\cos{\\left(Tk - Tm \\right)} + Gkm \\sin{\\left(Tk - Tm \\right)}\\right)$"
      ],
      "text/plain": [
       "-Tap*Vk*Vm*(Bkm*cos(Tk - Tm) + Gkm*sin(Tk - Tm))"
      ]
     },
     "execution_count": 48,
     "metadata": {},
     "output_type": "execute_result"
    }
   ],
   "source": [
    "dPmkTm"
   ]
  },
  {
   "cell_type": "code",
   "execution_count": 38,
   "metadata": {},
   "outputs": [],
   "source": [
    "dQkmVk = diff(Qkm,Vk)\n",
    "dQkmVm = diff(Qkm,Vm)\n",
    "dQkmTk = diff(Qkm,Tk)\n",
    "dQkmTm = diff(Qkm,Tm)"
   ]
  },
  {
   "cell_type": "code",
   "execution_count": 39,
   "metadata": {},
   "outputs": [],
   "source": [
    "dQmkVk = diff(Qmk,Vk)\n",
    "dQmkVm = diff(Qmk,Vm)\n",
    "dQmkTk = diff(Qmk,Tk)\n",
    "dQmkTm = diff(Qmk,Tm)"
   ]
  },
  {
   "cell_type": "code",
   "execution_count": 53,
   "metadata": {},
   "outputs": [
    {
     "data": {
      "text/latex": [
       "$\\displaystyle Tap Vk Vm \\left(Bkm \\sin{\\left(Tk - Tm \\right)} - Gkm \\cos{\\left(Tk - Tm \\right)}\\right)$"
      ],
      "text/plain": [
       "Tap*Vk*Vm*(Bkm*sin(Tk - Tm) - Gkm*cos(Tk - Tm))"
      ]
     },
     "execution_count": 53,
     "metadata": {},
     "output_type": "execute_result"
    }
   ],
   "source": [
    "dQmkTm"
   ]
  },
  {
   "cell_type": "code",
   "execution_count": 55,
   "metadata": {},
   "outputs": [],
   "source": [
    "dPerdasVk = diff(Perdas,Vk)\n",
    "dPerdasVm = diff(Perdas,Vm)\n",
    "dPerdasTk = diff(Perdas,Tk)\n",
    "dPerdasTm = diff(Perdas,Tm)"
   ]
  },
  {
   "cell_type": "code",
   "execution_count": 56,
   "metadata": {},
   "outputs": [
    {
     "data": {
      "text/latex": [
       "$\\displaystyle - 2 Gkm Tap^{2} Vm \\cos{\\left(Tk - Tm \\right)} + 2 Gkm Vk$"
      ],
      "text/plain": [
       "-2*Gkm*Tap**2*Vm*cos(Tk - Tm) + 2*Gkm*Vk"
      ]
     },
     "execution_count": 56,
     "metadata": {},
     "output_type": "execute_result"
    }
   ],
   "source": [
    "dPerdasVk"
   ]
  },
  {
   "cell_type": "code",
   "execution_count": null,
   "metadata": {},
   "outputs": [],
   "source": []
  },
  {
   "cell_type": "code",
   "execution_count": null,
   "metadata": {},
   "outputs": [],
   "source": []
  },
  {
   "cell_type": "code",
   "execution_count": null,
   "metadata": {},
   "outputs": [],
   "source": []
  },
  {
   "cell_type": "code",
   "execution_count": null,
   "metadata": {},
   "outputs": [],
   "source": []
  },
  {
   "cell_type": "code",
   "execution_count": null,
   "metadata": {},
   "outputs": [],
   "source": []
  }
 ],
 "metadata": {
  "kernelspec": {
   "display_name": "Python 3",
   "language": "python",
   "name": "python3"
  },
  "language_info": {
   "codemirror_mode": {
    "name": "ipython",
    "version": 3
   },
   "file_extension": ".py",
   "mimetype": "text/x-python",
   "name": "python",
   "nbconvert_exporter": "python",
   "pygments_lexer": "ipython3",
   "version": "3.7.7"
  }
 },
 "nbformat": 4,
 "nbformat_minor": 4
}
